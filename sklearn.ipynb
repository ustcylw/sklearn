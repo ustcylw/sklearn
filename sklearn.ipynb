{
 "cells": [
  {
   "cell_type": "markdown",
   "id": "52f0a16c",
   "metadata": {},
   "source": [
    "# sklearn"
   ]
  },
  {
   "cell_type": "markdown",
   "id": "11780a68",
   "metadata": {},
   "source": [
    "refs:\n",
    "\n",
    "[Plot the decision boundaries of a VotingClassifier](https://scikit-learn.org/stable/auto_examples/ensemble/plot_voting_decision_regions.html)\n",
    "\n",
    "[API Reference](https://scikit-learn.org/stable/modules/classes.html)\n",
    "\n",
    "[scikit-learn、plotly、visdom DBSCAN聚类算法、可视化处理](https://blog.csdn.net/tonydz0523/article/details/79138533)\n",
    "\n",
    "[sklearn.metrics.plot_confusion_matrix](https://scikit-learn.org/stable/modules/generated/sklearn.metrics.plot_confusion_matrix.html)\n",
    "\n",
    "[scikit-learn：matplotlib.pyplot经常使用绘图功能总结（1）](https://www.cnblogs.com/mtcnn/p/9412553.html)\n",
    "\n",
    "[scikit-learn的5大新功能](https://zhuanlan.zhihu.com/p/114381719)\n",
    "\n",
    "[scikit-learn (sklearn) 官方文档中文版](https://sklearn.apachecn.org/)\n",
    "\n",
    "[中文示例](https://sklearn.apachecn.org/docs/examples/)\n",
    "\n",
    "[sklearn-doc-zh](https://github.com/apachecn/sklearn-doc-zh)\n",
    "\n",
    "[scikit-learn (sklearn) 官方文档中文版](https://zhuanlan.zhihu.com/p/52721729)\n",
    "\n",
    "[Scikit-Learn 备忘录](https://zhuanlan.zhihu.com/p/24770526)\n",
    "\n",
    "[Python机器学习笔记：sklearn库的学习](https://www.cnblogs.com/wj-1314/p/10179741.html)\n",
    "\n",
    "[ML神器：sklearn的快速使用](https://www.cnblogs.com/lianyingteng/p/7811126.html)"
   ]
  },
  {
   "cell_type": "code",
   "execution_count": 7,
   "id": "5968d5b9",
   "metadata": {
    "ExecuteTime": {
     "end_time": "2021-06-24T08:29:54.014070Z",
     "start_time": "2021-06-24T08:29:53.985660Z"
    }
   },
   "outputs": [
    {
     "name": "stdout",
     "output_type": "stream",
     "text": [
      "md: torch.Size([15, 256, 9, 15])\n"
     ]
    }
   ],
   "source": [
    "import torch\n",
    "\n",
    "a=torch.randn(15,256,9,15)\n",
    "#将channel256分为8组，每组32channel\n",
    "m=torch.nn.GroupNorm(8,256)\n",
    "#print(f'm: {help(m)}')\n",
    "md = m(a)\n",
    "print(f'md: {md.shape}')"
   ]
  },
  {
   "cell_type": "code",
   "execution_count": null,
   "id": "2bd32720",
   "metadata": {},
   "outputs": [],
   "source": [
    "import torchvision\n",
    "\n",
    "a = torch.randn(size=(1, 2, 5, 5))\n",
    "#a = torch.randn(size=(1, 2, 6, 6))\n",
    "bboxes = torch.Tensor([[0, ]])\n",
    "b = torchvision.ops.roi_align(a, boxes, output_size, spatial_scale=1.0, sampling_ratio=-1)\n",
    "\n",
    "import torch\n",
    "torch.nn."
   ]
  }
 ],
 "metadata": {
  "kernelspec": {
   "display_name": "Python 3.7.10 64-bit ('object_tracking': conda)",
   "language": "python",
   "name": "python371064bitobjecttrackingconda66c6f2efc4d740808a4620e21504b8f3"
  },
  "toc": {
   "base_numbering": 1,
   "nav_menu": {},
   "number_sections": true,
   "sideBar": true,
   "skip_h1_title": false,
   "title_cell": "Table of Contents",
   "title_sidebar": "Contents",
   "toc_cell": false,
   "toc_position": {},
   "toc_section_display": true,
   "toc_window_display": false
  },
  "varInspector": {
   "cols": {
    "lenName": 16,
    "lenType": 16,
    "lenVar": 40
   },
   "kernels_config": {
    "python": {
     "delete_cmd_postfix": "",
     "delete_cmd_prefix": "del ",
     "library": "var_list.py",
     "varRefreshCmd": "print(var_dic_list())"
    },
    "r": {
     "delete_cmd_postfix": ") ",
     "delete_cmd_prefix": "rm(",
     "library": "var_list.r",
     "varRefreshCmd": "cat(var_dic_list()) "
    }
   },
   "types_to_exclude": [
    "module",
    "function",
    "builtin_function_or_method",
    "instance",
    "_Feature"
   ],
   "window_display": false
  }
 },
 "nbformat": 4,
 "nbformat_minor": 5
}
